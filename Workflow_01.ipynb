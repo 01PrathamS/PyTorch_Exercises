{
 "cells": [
  {
   "cell_type": "markdown",
   "metadata": {
    "colab_type": "text",
    "id": "view-in-github"
   },
   "source": [
    "<a href=\"https://colab.research.google.com/github/01PrathamS/PyTorch_Exercises/blob/main/Workflow_01.ipynb\" target=\"_parent\"><img src=\"https://colab.research.google.com/assets/colab-badge.svg\" alt=\"Open In Colab\"/></a>"
   ]
  },
  {
   "cell_type": "markdown",
   "metadata": {
    "id": "nlUYyZct5zMc"
   },
   "source": []
  },
  {
   "cell_type": "code",
   "execution_count": 1,
   "metadata": {
    "id": "qMiABi355eXf"
   },
   "outputs": [],
   "source": [
    "import torch \n",
    "from torch import nn \n",
    "import numpy as np \n",
    "import matplotlib.pyplot as plt"
   ]
  },
  {
   "cell_type": "markdown",
   "metadata": {
    "id": "LYu4PVBt5xnk"
   },
   "source": [
    "1.Create a straight line dataset using the linear regression formula \\(weight \\times X + bias\\).\n",
    "\n",
    "- Set \\(weight=0.3\\) and \\(bias=0.9\\). Generate at least 100 datapoints in total.\n",
    "- Split the data into 80% for training and 20% for testing.\n",
    "- Plot the training and testing data to visualize the distribution.\n"
   ]
  },
  {
   "cell_type": "code",
   "execution_count": 2,
   "metadata": {
    "colab": {
     "base_uri": "https://localhost:8080/"
    },
    "id": "b1FGJwEM57KX",
    "outputId": "e8585a4c-bcf8-48d1-a09a-fee2204b30c5"
   },
   "outputs": [
    {
     "data": {
      "text/plain": [
       "(tensor([[0.0000],\n",
       "         [0.0100],\n",
       "         [0.0200],\n",
       "         [0.0300],\n",
       "         [0.0400]]),\n",
       " tensor([[0.9000],\n",
       "         [0.9030],\n",
       "         [0.9060],\n",
       "         [0.9090],\n",
       "         [0.9120]]))"
      ]
     },
     "execution_count": 2,
     "metadata": {},
     "output_type": "execute_result"
    }
   ],
   "source": [
    "weight = 0.3 \n",
    "bias = 0.9 \n",
    "\n",
    "start = 0 \n",
    "end = 1 \n",
    "step = 0.01 \n",
    "\n",
    "X = torch.arange(start, end, step).unsqueeze(dim=1)\n",
    "y = weight * X + bias \n",
    "\n",
    "X[:5],y[:5]"
   ]
  },
  {
   "cell_type": "code",
   "execution_count": 3,
   "metadata": {
    "id": "SupQJ6W36O1Y"
   },
   "outputs": [],
   "source": [
    "train_split = int(0.8 * len(X)) \n",
    "\n",
    "X_train, y_train = X[:train_split], y[:train_split] \n",
    "X_test, y_test = X[train_split:], y[train_split:]"
   ]
  },
  {
   "cell_type": "code",
   "execution_count": 4,
   "metadata": {
    "id": "ulmw6PPC6vqI"
   },
   "outputs": [],
   "source": [
    "def plot_predictions(train_data=X_train, \n",
    "                     train_labels=y_train, \n",
    "                     test_data=X_test, \n",
    "                     test_labels=y_test, \n",
    "                     predictions=None):\n",
    "  \n",
    "  plt.figure(figsize=(10,7))\n",
    "\n",
    "  plt.scatter(train_data, train_labels, c='b', s=4, label='Training')\n",
    "\n",
    "  plt.scatter(test_data, test_labels, c='g',s=4, label='Testing')\n",
    "\n",
    "  if predictions is not None: \n",
    "\n",
    "    plt.scatter(test_data, predictions, c='r', s=4, label='Prediction')\n",
    "\n",
    "  plt.legend(prop={'size':14});"
   ]
  },
  {
   "cell_type": "code",
   "execution_count": 5,
   "metadata": {
    "colab": {
     "base_uri": "https://localhost:8080/",
     "height": 599
    },
    "id": "w_xJ25ay7l1m",
    "outputId": "6246e7b5-d74c-43d4-bab5-daa449e50740"
   },
   "outputs": [],
   "source": [
    "plot_predictions();"
   ]
  },
  {
   "cell_type": "markdown",
   "metadata": {
    "id": "uzJOtJw27wFp"
   },
   "source": [
    "3.Build a PyTorch model by subclassing nn.Module.\n",
    "- Inside should be a randomly initialized nn.Parameter() with requires_grad=True, one for weights and one for bias.\n",
    "- Implement the forward() method to compute the linear regression function you used to create the dataset in 1.\n",
    "- Once you've constructed the model, make an instance of it and check its state_dict()."
   ]
  },
  {
   "cell_type": "code",
   "execution_count": 17,
   "metadata": {
    "id": "MOty0tVD7nmQ"
   },
   "outputs": [],
   "source": [
    "# class LinearRegression_V0(nn.Module):\n",
    "\n",
    "#   def __init__(self):\n",
    "#     super().__init__()\n",
    "\n",
    "#     self.weight = nn.Parameter(torch.randn(1,\n",
    "#                                            dtype=torch.float,\n",
    "#                                            requires_grad=True))\n",
    "    \n",
    "#     self.bias = nn.Parameter(torch.randn(1,\n",
    "#                                          dtype=torch.float,\n",
    "#                                          requires_grad=True))\n",
    "    \n",
    "\n",
    "#   def forward(self,x):\n",
    "#     return self.weight * x + self.bias\n",
    "\n",
    "class LinearRegression_V1(nn.Module): \n",
    "    \n",
    "    def __init__(self): \n",
    "        super().__init__()\n",
    "        self.linear_layer = nn.Linear(in_features=1, out_features=1)\n",
    "        \n",
    "    def forward(self, x: torch.Tensor) -> torch.Tensor: \n",
    "        return self.linear_layer(x)"
   ]
  },
  {
   "cell_type": "code",
   "execution_count": 18,
   "metadata": {
    "colab": {
     "base_uri": "https://localhost:8080/"
    },
    "id": "Ez4IUipg8X8u",
    "outputId": "aaf49bd8-5c9f-4069-9048-c71192e4f866"
   },
   "outputs": [
    {
     "data": {
      "text/plain": [
       "OrderedDict([('linear_layer.weight', tensor([[-0.4916]])),\n",
       "             ('linear_layer.bias', tensor([-0.8251]))])"
      ]
     },
     "execution_count": 18,
     "metadata": {},
     "output_type": "execute_result"
    }
   ],
   "source": [
    "model_0 = LinearRegression_V1()\n",
    "model_0.state_dict()"
   ]
  },
  {
   "cell_type": "code",
   "execution_count": 19,
   "metadata": {
    "colab": {
     "base_uri": "https://localhost:8080/",
     "height": 599
    },
    "id": "T6n__5S2-hpE",
    "outputId": "be5dc7ed-4128-45b2-bfc3-1fe3c8bd0cd8"
   },
   "outputs": [],
   "source": [
    "with torch.inference_mode():\n",
    "  y_pred = model_0(X_test) \n",
    "\n",
    "\n",
    "# plot_predictions(predictions=y_pred)"
   ]
  },
  {
   "cell_type": "markdown",
   "metadata": {
    "id": "a3X_jTIs-AKB"
   },
   "source": [
    "3.Create a loss function and optimizer using nn.L1Loss() and torch.optim.SGD(params, lr) respectively.\n",
    "\n",
    "- Set the learning rate of the optimizer to be 0.01 and the parameters to optimize should be the model parameters from the model you created in 2.\n",
    "- Write a training loop to perform the appropriate training steps for 300 epochs.\n",
    "- The training loop should test the model on the test dataset every 20 epochs."
   ]
  },
  {
   "cell_type": "code",
   "execution_count": 20,
   "metadata": {
    "id": "n3V_CoJe8jha"
   },
   "outputs": [],
   "source": [
    "## create the loss function \n",
    "\n",
    "loss_fn = nn.L1Loss() \n",
    "\n",
    "## Create the optimizer \n",
    "\n",
    "optimizer = torch.optim.SGD(params= model_0.parameters(), \n",
    "                            lr = 0.01)"
   ]
  },
  {
   "cell_type": "code",
   "execution_count": 21,
   "metadata": {
    "colab": {
     "base_uri": "https://localhost:8080/"
    },
    "id": "VXB8CMiU-R8p",
    "outputId": "02089126-9608-4ff9-a87a-ecb79b09dbd5"
   },
   "outputs": [
    {
     "name": "stdout",
     "output_type": "stream",
     "text": [
      "epoch: 0 | MAE Train loss: 2.037777900695801 | MAE Test Loss: 2.420043706893921\n",
      "epoch: 30 | MAE Train loss: 1.6909706592559814 | MAE Test Loss: 2.013986587524414\n",
      "epoch: 60 | MAE Train loss: 1.344163417816162 | MAE Test Loss: 1.6079294681549072\n",
      "epoch: 90 | MAE Train loss: 0.9973558187484741 | MAE Test Loss: 1.2018718719482422\n",
      "epoch: 120 | MAE Train loss: 0.6505484580993652 | MAE Test Loss: 0.7958143949508667\n",
      "epoch: 150 | MAE Train loss: 0.3037412166595459 | MAE Test Loss: 0.3897572159767151\n",
      "epoch: 180 | MAE Train loss: 0.01730450615286827 | MAE Test Loss: 0.04231677204370499\n",
      "epoch: 210 | MAE Train loss: 0.006833924911916256 | MAE Test Loss: 0.015256762504577637\n",
      "epoch: 240 | MAE Train loss: 0.004822383634746075 | MAE Test Loss: 0.009765279479324818\n",
      "epoch: 270 | MAE Train loss: 0.004822383634746075 | MAE Test Loss: 0.009765279479324818\n",
      "epoch: 300 | MAE Train loss: 0.004822383634746075 | MAE Test Loss: 0.009765279479324818\n",
      "epoch: 330 | MAE Train loss: 0.004822383634746075 | MAE Test Loss: 0.009765279479324818\n",
      "epoch: 360 | MAE Train loss: 0.004822383634746075 | MAE Test Loss: 0.009765279479324818\n",
      "epoch: 390 | MAE Train loss: 0.004822383634746075 | MAE Test Loss: 0.009765279479324818\n",
      "epoch: 420 | MAE Train loss: 0.004822383634746075 | MAE Test Loss: 0.009765279479324818\n",
      "epoch: 450 | MAE Train loss: 0.004822383634746075 | MAE Test Loss: 0.009765279479324818\n",
      "epoch: 480 | MAE Train loss: 0.004822383634746075 | MAE Test Loss: 0.009765279479324818\n",
      "epoch: 510 | MAE Train loss: 0.004822383634746075 | MAE Test Loss: 0.009765279479324818\n",
      "epoch: 540 | MAE Train loss: 0.004822383634746075 | MAE Test Loss: 0.009765279479324818\n",
      "epoch: 570 | MAE Train loss: 0.004822383634746075 | MAE Test Loss: 0.009765279479324818\n",
      "epoch: 600 | MAE Train loss: 0.004822383634746075 | MAE Test Loss: 0.009765279479324818\n",
      "epoch: 630 | MAE Train loss: 0.004822383634746075 | MAE Test Loss: 0.009765279479324818\n",
      "epoch: 660 | MAE Train loss: 0.004822383634746075 | MAE Test Loss: 0.009765279479324818\n",
      "epoch: 690 | MAE Train loss: 0.004822383634746075 | MAE Test Loss: 0.009765279479324818\n",
      "epoch: 720 | MAE Train loss: 0.004822383634746075 | MAE Test Loss: 0.009765279479324818\n",
      "epoch: 750 | MAE Train loss: 0.004822383634746075 | MAE Test Loss: 0.009765279479324818\n",
      "epoch: 780 | MAE Train loss: 0.004822383634746075 | MAE Test Loss: 0.009765279479324818\n",
      "epoch: 810 | MAE Train loss: 0.004822383634746075 | MAE Test Loss: 0.009765279479324818\n",
      "epoch: 840 | MAE Train loss: 0.004822383634746075 | MAE Test Loss: 0.009765279479324818\n",
      "epoch: 870 | MAE Train loss: 0.004822383634746075 | MAE Test Loss: 0.009765279479324818\n"
     ]
    }
   ],
   "source": [
    "## write a training loop to perform the appropriate \n",
    "# training steps for 300 epochs.\n",
    "\n",
    "\n",
    "torch.manual_seed(42) \n",
    "\n",
    "train_loss_values = []\n",
    "test_loss_values = [] \n",
    "epoch_count = []\n",
    "\n",
    "epochs = 900 \n",
    "\n",
    "for epoch in range(epochs):\n",
    "\n",
    "  model_0.train()\n",
    "\n",
    "  y_pred = model_0(X_train) \n",
    "\n",
    "  loss = loss_fn(y_pred, y_train) \n",
    "\n",
    "  optimizer.zero_grad() \n",
    "\n",
    "  loss.backward() \n",
    "\n",
    "  optimizer.step() \n",
    "\n",
    "  ## put the model in evaluation mode \n",
    "\n",
    "  model_0.eval() \n",
    "\n",
    "  with torch.inference_mode():\n",
    "    test_pred = model_0(X_test) \n",
    "\n",
    "\n",
    "    test_loss = loss_fn(test_pred, y_test.type(torch.float)) \n",
    "\n",
    "    if epoch % 30 == 0: \n",
    "      epoch_count.append(epoch) \n",
    "      train_loss_values.append(loss.detach().numpy()) \n",
    "      test_loss_values.append(test_loss.detach().numpy()) \n",
    "      print(f'epoch: {epoch} | MAE Train loss: {loss} | MAE Test Loss: {test_loss}')"
   ]
  },
  {
   "cell_type": "code",
   "execution_count": 22,
   "metadata": {
    "colab": {
     "base_uri": "https://localhost:8080/",
     "height": 489
    },
    "id": "pusOHjyfAgOV",
    "outputId": "971409a9-c02b-4173-e1b7-d7aeb382a4b5"
   },
   "outputs": [
    {
     "data": {
      "text/plain": [
       "<matplotlib.legend.Legend at 0x2164fb534d0>"
      ]
     },
     "execution_count": 22,
     "metadata": {},
     "output_type": "execute_result"
    },
    {
     "data": {
      "image/png": "[encoded data removed]",
      "text/plain": [
       "<Figure size 640x480 with 1 Axes>"
      ]
     },
     "metadata": {},
     "output_type": "display_data"
    }
   ],
   "source": [
    "plt.plot(epoch_count, train_loss_values, label='Train loss') \n",
    "plt.plot(epoch_count, test_loss_values, label='test loss') \n",
    "plt.title('Training and test loss curves') \n",
    "plt.ylabel('loss') \n",
    "plt.xlabel('Epochs') \n",
    "plt.legend()"
   ]
  },
  {
   "cell_type": "code",
   "execution_count": 23,
   "metadata": {
    "colab": {
     "base_uri": "https://localhost:8080/"
    },
    "id": "SRXs5TS2A3iP",
    "outputId": "7754889e-c7ce-4dbb-c954-10a78918545d"
   },
   "outputs": [
    {
     "data": {
      "text/plain": [
       "OrderedDict([('linear_layer.weight', tensor([[0.2979]])),\n",
       "             ('linear_layer.bias', tensor([0.9057]))])"
      ]
     },
     "execution_count": 23,
     "metadata": {},
     "output_type": "execute_result"
    }
   ],
   "source": [
    "\n",
    "model_0.state_dict()"
   ]
  },
  {
   "cell_type": "markdown",
   "metadata": {
    "id": "dIazSTB0BVQy"
   },
   "source": [
    "4. Make predictions with the trained model on the test data.\n",
    "\n",
    "    - Visualize these predictions against the original training and testing data. Note: Ensure that the predictions are on the CPU if you want to use non-CUDA-enabled libraries, such as matplotlib, to plot.\n"
   ]
  },
  {
   "cell_type": "code",
   "execution_count": 24,
   "metadata": {
    "id": "0W1JMsv0BG5K"
   },
   "outputs": [],
   "source": [
    "with torch.inference_mode():\n",
    "  y_pred = model_0(X_test) \n",
    "\n"
   ]
  },
  {
   "cell_type": "code",
   "execution_count": 25,
   "metadata": {
    "colab": {
     "base_uri": "https://localhost:8080/",
     "height": 599
    },
    "id": "u-HEJoySBlLL",
    "outputId": "74daf343-b006-46a9-86c2-f6f5a587c7d1"
   },
   "outputs": [
    {
     "data": {
      "image/png": "[encoded data removed]",
      "text/plain": [
       "<Figure size 1000x700 with 1 Axes>"
      ]
     },
     "metadata": {},
     "output_type": "display_data"
    }
   ],
   "source": [
    "plot_predictions(predictions=y_pred)"
   ]
  },
  {
   "cell_type": "markdown",
   "metadata": {
    "id": "j5hhdMq5FLgd"
   },
   "source": [
    "5.Save your trained model's state_dict() to file.\n",
    "-->Create a new instance of your model class you made in 2. and load in the state_dict() you just saved to it.\n",
    "-->Perform predictions on your test data with the loaded model and confirm they match the original model predictionsfrom 4."
   ]
  },
  {
   "cell_type": "code",
   "execution_count": 26,
   "metadata": {
    "colab": {
     "base_uri": "https://localhost:8080/"
    },
    "id": "vT3mlE8EBynL",
    "outputId": "91f66408-d7e9-4d0c-a40f-b8cf0fe784f6"
   },
   "outputs": [
    {
     "name": "stdout",
     "output_type": "stream",
     "text": [
      "Saving model to: models\\01_pytorch_workflow_model_1.pth\n"
     ]
    }
   ],
   "source": [
    "## Saving and loading model \n",
    "\n",
    "from pathlib import Path \n",
    "\n",
    "## Create model directory\n",
    "MODEL_PATH = Path('models') \n",
    "MODEL_PATH.mkdir(parents=True, exist_ok=True)  \n",
    "\n",
    "## create model save path \n",
    "MODEL_NAME = '01_pytorch_workflow_model_1.pth' \n",
    "MODEL_SAVE_PATH = MODEL_PATH / MODEL_NAME \n",
    "\n",
    "## Save the model state dict \n",
    "\n",
    "print(f'Saving model to: {MODEL_SAVE_PATH}') \n",
    "torch.save(obj=model_0.state_dict(), f=MODEL_SAVE_PATH)"
   ]
  },
  {
   "cell_type": "code",
   "execution_count": 29,
   "metadata": {
    "colab": {
     "base_uri": "https://localhost:8080/"
    },
    "id": "vOb0tP8MDL2P",
    "outputId": "4c5588cc-49f5-405f-cb10-657e8c614ad0"
   },
   "outputs": [
    {
     "data": {
      "text/plain": [
       "LinearRegression_V1(\n",
       "  (linear_layer): Linear(in_features=1, out_features=1, bias=True)\n",
       ")"
      ]
     },
     "execution_count": 29,
     "metadata": {},
     "output_type": "execute_result"
    }
   ],
   "source": [
    "## Instantiate a fresh instance of LinearRegressionModelV2\n",
    "loaded_model_1 = LinearRegression_V1() \n",
    "\n",
    "## Load model state dict \n",
    "loaded_model_1.load_state_dict(torch.load(MODEL_SAVE_PATH)) \n",
    "\n",
    "device = 'cuda' if torch.cuda.is_available() else 'cpu'\n",
    "\n",
    "## Pyt model to target device\n",
    "loaded_model_1.to(device)"
   ]
  },
  {
   "cell_type": "code",
   "execution_count": 30,
   "metadata": {
    "colab": {
     "base_uri": "https://localhost:8080/"
    },
    "id": "YkprZjw8EupR",
    "outputId": "131af707-091e-42d2-8424-5d4ca6f7adc0"
   },
   "outputs": [
    {
     "ename": "NameError",
     "evalue": "name 'y_preds' is not defined",
     "output_type": "error",
     "traceback": [
      "\u001b[1;31m---------------------------------------------------------------------------\u001b[0m",
      "\u001b[1;31mNameError\u001b[0m                                 Traceback (most recent call last)",
      "Cell \u001b[1;32mIn[30], line 8\u001b[0m\n\u001b[0;32m      5\u001b[0m \u001b[38;5;28;01mwith\u001b[39;00m torch\u001b[38;5;241m.\u001b[39minference_mode():\n\u001b[0;32m      6\u001b[0m   loaded_model_1_preds \u001b[38;5;241m=\u001b[39m loaded_model_1(X_test) \n\u001b[1;32m----> 8\u001b[0m y_preds \u001b[38;5;241m==\u001b[39m loaded_model_1_preds\n",
      "\u001b[1;31mNameError\u001b[0m: name 'y_preds' is not defined"
     ]
    }
   ],
   "source": [
    "## Evaluate loaded model \n",
    "\n",
    "loaded_model_1.eval() \n",
    "\n",
    "with torch.inference_mode():\n",
    "  loaded_model_1_preds = loaded_model_1(X_test) \n",
    "\n",
    "y_preds == loaded_model_1_preds"
   ]
  },
  {
   "cell_type": "code",
   "execution_count": null,
   "metadata": {
    "id": "t5ThY434FHAC"
   },
   "outputs": [],
   "source": []
  },
  {
   "cell_type": "code",
   "execution_count": null,
   "metadata": {},
   "outputs": [],
   "source": []
  },
  {
   "cell_type": "code",
   "execution_count": null,
   "metadata": {},
   "outputs": [],
   "source": []
  },
  {
   "cell_type": "code",
   "execution_count": null,
   "metadata": {},
   "outputs": [],
   "source": []
  }
 ],
 "metadata": {
  "colab": {
   "authorship_tag": "ABX9TyOS3BpfSVPHKKjoCWJZABV/",
   "include_colab_link": true,
   "provenance": []
  },
  "kernelspec": {
   "display_name": "Python 3 (ipykernel)",
   "language": "python",
   "name": "python3"
  },
  "language_info": {
   "codemirror_mode": {
    "name": "ipython",
    "version": 3
   },
   "file_extension": ".py",
   "mimetype": "text/x-python",
   "name": "python",
   "nbconvert_exporter": "python",
   "pygments_lexer": "ipython3",
   "version": "3.11.4"
  }
 },
 "nbformat": 4,
 "nbformat_minor": 1
}
