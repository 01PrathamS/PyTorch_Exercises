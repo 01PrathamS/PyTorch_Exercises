{
  "nbformat": 4,
  "nbformat_minor": 0,
  "metadata": {
    "colab": {
      "provenance": [],
      "authorship_tag": "ABX9TyOJTZt7HpccnKWhWUz/Cywf",
      "include_colab_link": true
    },
    "kernelspec": {
      "name": "python3",
      "display_name": "Python 3"
    },
    "language_info": {
      "name": "python"
    },
    "accelerator": "GPU",
    "gpuClass": "standard"
  },
  "cells": [
    {
      "cell_type": "markdown",
      "metadata": {
        "id": "view-in-github",
        "colab_type": "text"
      },
      "source": [
        "<a href=\"https://colab.research.google.com/github/01PrathamS/PyTorch_Exercises/blob/main/Fundamentals_00.ipynb\" target=\"_parent\"><img src=\"https://colab.research.google.com/assets/colab-badge.svg\" alt=\"Open In Colab\"/></a>"
      ]
    },
    {
      "cell_type": "code",
      "source": [
        "## Importing libraries\n",
        "\n",
        "import torch "
      ],
      "metadata": {
        "id": "PAr5VdDPP7RT"
      },
      "execution_count": 2,
      "outputs": []
    },
    {
      "cell_type": "markdown",
      "source": [
        "1. Documentation Reading: "
      ],
      "metadata": {
        "id": "hS_pZoN_c5Xh"
      }
    },
    {
      "cell_type": "code",
      "execution_count": 3,
      "metadata": {
        "colab": {
          "base_uri": "https://localhost:8080/"
        },
        "id": "do09BD0NP51D",
        "outputId": "199d988f-cfc3-4bc3-a3b0-b08441c3e9d0"
      },
      "outputs": [
        {
          "output_type": "execute_result",
          "data": {
            "text/plain": [
              "tensor([[9.0259e-01, 5.0781e-01, 1.3314e-01, 3.5451e-01, 4.3116e-01, 3.1880e-01,\n",
              "         6.3151e-04],\n",
              "        [3.2774e-02, 4.0985e-01, 5.0401e-01, 7.6032e-01, 4.3703e-01, 1.1860e-01,\n",
              "         4.2973e-01],\n",
              "        [7.1796e-02, 1.7745e-01, 5.4714e-01, 3.8834e-01, 6.1522e-01, 6.5524e-01,\n",
              "         6.7734e-01],\n",
              "        [3.3674e-01, 1.1252e-02, 2.6625e-01, 7.4670e-01, 1.3211e-01, 3.5471e-01,\n",
              "         4.2798e-01],\n",
              "        [8.3224e-01, 7.1302e-01, 7.0972e-01, 2.7156e-01, 8.7889e-02, 4.2590e-01,\n",
              "         5.9953e-01],\n",
              "        [4.1071e-01, 7.3475e-01, 8.7358e-01, 7.2868e-01, 1.2123e-01, 2.2631e-01,\n",
              "         6.4460e-01],\n",
              "        [2.9392e-01, 7.7898e-01, 8.0910e-01, 4.0974e-01, 8.6432e-01, 2.1000e-01,\n",
              "         4.2081e-02]])"
            ]
          },
          "metadata": {},
          "execution_count": 3
        }
      ],
      "source": [
        "## 2. Create a random tensor with shape (7,7).\n",
        "\n",
        "x = torch.rand(size=(7,7))\n",
        "x"
      ]
    },
    {
      "cell_type": "code",
      "source": [
        "## 3.Perform a matrix multiplication on the tensor from 2 with \n",
        "#    another random tensor with shape (1, 7)\n",
        "\n",
        "y = torch.rand(size=(1,7))\n",
        "y\n",
        "\n",
        "## matrix multiplication between x and y \n",
        "\n",
        "z = torch.matmul(x, y.T)\n",
        "z, z.shape"
      ],
      "metadata": {
        "colab": {
          "base_uri": "https://localhost:8080/"
        },
        "id": "9-FKa1FdQAV0",
        "outputId": "0bc4f26c-95ee-4709-ab69-06a25ffeece8"
      },
      "execution_count": 4,
      "outputs": [
        {
          "output_type": "execute_result",
          "data": {
            "text/plain": [
              "(tensor([[1.3810],\n",
              "         [1.6357],\n",
              "         [1.7418],\n",
              "         [1.2469],\n",
              "         [1.4891],\n",
              "         [1.8162],\n",
              "         [2.0260]]),\n",
              " torch.Size([7, 1]))"
            ]
          },
          "metadata": {},
          "execution_count": 4
        }
      ]
    },
    {
      "cell_type": "code",
      "source": [
        "## 4. Set the random seed to 0 and do exercises 2 & 3 over again.\n",
        "\n",
        "torch.manual_seed(0) \n",
        "\n",
        "a = torch.rand(size=(7,7))\n",
        "b = torch.rand(size=(1,7))\n",
        "\n",
        "c = torch.mm(a, b.T)\n",
        "c, c.shape"
      ],
      "metadata": {
        "colab": {
          "base_uri": "https://localhost:8080/"
        },
        "id": "Qv9I7_VeQDR2",
        "outputId": "db97c1d0-56c8-4e72-87c9-e83ad8d4cd83"
      },
      "execution_count": 5,
      "outputs": [
        {
          "output_type": "execute_result",
          "data": {
            "text/plain": [
              "(tensor([[1.8542],\n",
              "         [1.9611],\n",
              "         [2.2884],\n",
              "         [3.0481],\n",
              "         [1.7067],\n",
              "         [2.5290],\n",
              "         [1.7989]]),\n",
              " torch.Size([7, 1]))"
            ]
          },
          "metadata": {},
          "execution_count": 5
        }
      ]
    },
    {
      "cell_type": "code",
      "source": [
        "\"\"\" 5. Speaking of random seeds, we saw how to set it with\n",
        " torch.manual_seed() but is there a GPU equivalent? \n",
        " (hint: you'll need to look into the documentation \n",
        " for torch.cuda for this one). If there is, set the GPU random seed to 1234.\"\"\"\n",
        "\n",
        "if torch.cuda.is_available():\n",
        "  torch.cuda.manual_seed(1234)\n",
        "else:\n",
        "  torch.manual_seed(42)\n",
        "\n",
        "device = 'cuda' if torch.cuda.is_available() else 'cpu'\n",
        "device"
      ],
      "metadata": {
        "colab": {
          "base_uri": "https://localhost:8080/",
          "height": 35
        },
        "id": "Q56aWS1-QPNP",
        "outputId": "4901e34d-d57b-474d-9799-1309f71c398d"
      },
      "execution_count": 6,
      "outputs": [
        {
          "output_type": "execute_result",
          "data": {
            "text/plain": [
              "'cuda'"
            ],
            "application/vnd.google.colaboratory.intrinsic+json": {
              "type": "string"
            }
          },
          "metadata": {},
          "execution_count": 6
        }
      ]
    },
    {
      "cell_type": "markdown",
      "source": [
        "6.Create two random tensors of shape (2, 3) and send them both to the GPU (you'll need access to a GPU for this). Set torch.manual_seed(1234) when creating the tensors (this doesn't have to be the GPU random seed).\n",
        "\n",
        "\n",
        "to solve this runtime --> change runtime type --> hardwarre accelerator --> change it to gpu."
      ],
      "metadata": {
        "id": "R_8J0KDKeYST"
      }
    },
    {
      "cell_type": "code",
      "source": [
        "torch.manual_seed(1234)\n",
        "\n",
        "a = torch.rand(size=(2,3)).to(device)\n",
        "b = torch.rand(size=(2,3)).to(device)\n",
        "\n",
        "a, b"
      ],
      "metadata": {
        "colab": {
          "base_uri": "https://localhost:8080/"
        },
        "id": "Sy2_32zNeX-D",
        "outputId": "adfb2aae-664d-44ac-e3d1-2cb72282a13b"
      },
      "execution_count": 8,
      "outputs": [
        {
          "output_type": "execute_result",
          "data": {
            "text/plain": [
              "(tensor([[0.0290, 0.4019, 0.2598],\n",
              "         [0.3666, 0.0583, 0.7006]], device='cuda:0'),\n",
              " tensor([[0.0518, 0.4681, 0.6738],\n",
              "         [0.3315, 0.7837, 0.5631]], device='cuda:0'))"
            ]
          },
          "metadata": {},
          "execution_count": 8
        }
      ]
    },
    {
      "cell_type": "code",
      "source": [
        "# 7.Perform a matrix multiplication on the tensors you created in 6\n",
        "\n",
        "d = torch.matmul(a, b.T)\n",
        "d"
      ],
      "metadata": {
        "colab": {
          "base_uri": "https://localhost:8080/"
        },
        "id": "uvPIyCH-eGbP",
        "outputId": "afec38ba-07de-4587-ce71-a42ae0b2be0a"
      },
      "execution_count": 9,
      "outputs": [
        {
          "output_type": "execute_result",
          "data": {
            "text/plain": [
              "tensor([[0.3647, 0.4709],\n",
              "        [0.5184, 0.5617]], device='cuda:0')"
            ]
          },
          "metadata": {},
          "execution_count": 9
        }
      ]
    },
    {
      "cell_type": "code",
      "source": [
        "## find the maximum and minimum of the output 7 \n",
        "\n",
        "print('max of output is:', torch.max(d))\n",
        "print('min of output is:', torch.min(d))"
      ],
      "metadata": {
        "colab": {
          "base_uri": "https://localhost:8080/"
        },
        "id": "FMASzJonfUiw",
        "outputId": "289a2fc4-6a42-42fe-b2e4-a4a06650b9cb"
      },
      "execution_count": 11,
      "outputs": [
        {
          "output_type": "stream",
          "name": "stdout",
          "text": [
            "max of output is: tensor(0.5617, device='cuda:0')\n",
            "min of output is: tensor(0.3647, device='cuda:0')\n"
          ]
        }
      ]
    },
    {
      "cell_type": "code",
      "source": [
        "## find the index of maximum and minimum of the output 7 \n",
        "\n",
        "print('index of maximum of output is: ', torch.argmax(d))\n",
        "print('index of minumum of output is: ', torch.argmin(d))"
      ],
      "metadata": {
        "colab": {
          "base_uri": "https://localhost:8080/"
        },
        "id": "bynoFZZlfgum",
        "outputId": "d97eb689-23fb-46d5-f285-9bf21868550a"
      },
      "execution_count": 12,
      "outputs": [
        {
          "output_type": "stream",
          "name": "stdout",
          "text": [
            "index of maximum of output is:  tensor(3, device='cuda:0')\n",
            "index of minumum of output is:  tensor(0, device='cuda:0')\n"
          ]
        }
      ]
    },
    {
      "cell_type": "markdown",
      "source": [
        "10.Make a random tensor with shape (1, 1, 1, 10) and then create a new tensor with all the 1 dimensions removed to be left with a tensor of shape (10). Set the seed to 7 when you create it and print out the first tensor and it's shape as well as the second tensor and it's shape"
      ],
      "metadata": {
        "id": "n-AZfauagAc3"
      }
    },
    {
      "cell_type": "code",
      "source": [
        "torch.manual_seed(7)\n",
        "\n",
        "tens = torch.rand(size=(1,1,1,10))\n",
        "tens.shape\n",
        "\n",
        "tens_1 = tens.squeeze()\n",
        "\n",
        "print(tens, tens.shape)\n",
        "print(tens_1, tens_1.shape)"
      ],
      "metadata": {
        "colab": {
          "base_uri": "https://localhost:8080/"
        },
        "id": "vW7omIplf671",
        "outputId": "77925e34-36e7-4ce5-8840-b04ddccbc90c"
      },
      "execution_count": 19,
      "outputs": [
        {
          "output_type": "stream",
          "name": "stdout",
          "text": [
            "tensor([[[[0.5349, 0.1988, 0.6592, 0.6569, 0.2328, 0.4251, 0.2071, 0.6297,\n",
            "           0.3653, 0.8513]]]]) torch.Size([1, 1, 1, 10])\n",
            "tensor([0.5349, 0.1988, 0.6592, 0.6569, 0.2328, 0.4251, 0.2071, 0.6297, 0.3653,\n",
            "        0.8513]) torch.Size([10])\n"
          ]
        }
      ]
    },
    {
      "cell_type": "code",
      "source": [],
      "metadata": {
        "id": "59ip9evKgGMO"
      },
      "execution_count": null,
      "outputs": []
    }
  ]
}